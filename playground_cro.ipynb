{
 "cells": [
  {
   "cell_type": "code",
   "execution_count": null,
   "metadata": {},
   "outputs": [],
   "source": [
    "# Hybrid search over Images in S3 bucket\n",
    "hybrid_search_query = \"\"\"WITH filtered_products AS (\n",
    "            -- First get all men's products\n",
    "            SELECT img_id, productdisplayname\n",
    "            FROM products \n",
    "            WHERE gender = '{selected_gender}'\n",
    "        )\n",
    "        SELECT \n",
    "            result.key as id,\n",
    "            fp.productdisplayname as description,\n",
    "            result.distance as score\n",
    "        FROM filtered_products fp\n",
    "        CROSS JOIN LATERAL aidb.retrieve_key('{st.session_state.text_retriever_name}', '{text_query}', 40) AS result\n",
    "        WHERE result.key = CONCAT(fp.img_id, '.jpg')\n",
    "        ORDER BY score ASC LIMIT 5;\"\"\""
   ]
  },
  {
   "cell_type": "code",
   "execution_count": 2,
   "metadata": {},
   "outputs": [
    {
     "name": "stdout",
     "output_type": "stream",
     "text": [
      "Python search paths: ['/Users/bilge.ince/.pyenv/versions/3.10.4/lib/python310.zip', '/Users/bilge.ince/.pyenv/versions/3.10.4/lib/python3.10', '/Users/bilge.ince/.pyenv/versions/3.10.4/lib/python3.10/lib-dynload', '', '/Users/bilge.ince/.local/lib/python3.10/site-packages', '/Users/bilge.ince/.pyenv/versions/3.10.4/lib/python3.10/site-packages', '/Users/bilge.ince/projects/hybrid-recommendation-engine']\n"
     ]
    }
   ],
   "source": [
    "import pandas as pd\n",
    "import psycopg2\n",
    "import time\n",
    "import os\n",
    "\n",
    "from io import StringIO\n",
    "from PIL import Image\n",
    "# from transformers import CLIPModel, CLIPProcessor, AutoTokenizer, AutoModel\n",
    "import sys\n",
    "# Add the parent directory of 'code' to sys.path\n",
    "sys.path.append(os.path.abspath(os.path.join(os.getcwd(), '..')))\n",
    "\n",
    "print(\"Python search paths:\", sys.path)  # Debugging line\n",
    "from utils.db_connection import create_db_connection\n",
    "from utils.generate_embeddings import generate_ollama_embeddings"
   ]
  },
  {
   "cell_type": "code",
   "execution_count": null,
   "metadata": {},
   "outputs": [],
   "source": [
    "conn = create_db_connection()"
   ]
  },
  {
   "cell_type": "code",
   "execution_count": 22,
   "metadata": {},
   "outputs": [],
   "source": [
    "text_embeddings = generate_ollama_embeddings(\"summer outfit for thailand\")\n",
    "# 10.5s"
   ]
  },
  {
   "cell_type": "code",
   "execution_count": null,
   "metadata": {},
   "outputs": [
    {
     "data": {
      "text/plain": [
       "[(43666, 0.45893446733961896),\n",
       " (13510, 0.4566795844783741),\n",
       " (39720, 0.4514953570806024),\n",
       " (43655, 0.4487756464496022),\n",
       " (30139, 0.44834972554618724),\n",
       " (30142, 0.44834972554618724),\n",
       " (30146, 0.44729700056278787),\n",
       " (30141, 0.44729700056278787),\n",
       " (22666, 0.44379710463770283),\n",
       " (24845, 0.4427767332231144)]"
      ]
     },
     "execution_count": 24,
     "metadata": {},
     "output_type": "execute_result"
    }
   ],
   "source": [
    "with conn.cursor() as cursor:\n",
    "    cursor.execute(\n",
    "        f\"\"\"EXPLAIN ANALYSE SELECT img_id, 1-(embedding <=> '{text_embeddings}') AS score FROM products_embeddings_ollama ORDER BY embedding <=> '{text_embeddings}' LIMIT 10;\"\"\"\n",
    "    )  # Create the database\n",
    "    # 13.2 s\n",
    "    cursor.fetchall()"
   ]
  },
  {
   "cell_type": "code",
   "execution_count": 18,
   "metadata": {},
   "outputs": [],
   "source": [
    "cursor.execute(\"\"\"CREATE TABLE IF NOT EXISTS products_embeddings_pgvector (img_id INTEGER PRIMARY KEY REFERENCES products(img_id) ON DELETE CASCADE,\n",
    "            embedding vector(4096));\"\"\")"
   ]
  },
  {
   "cell_type": "code",
   "execution_count": 19,
   "metadata": {},
   "outputs": [
    {
     "ename": "InternalError_",
     "evalue": "column cannot have more than 2000 dimensions for hnsw index\n",
     "output_type": "error",
     "traceback": [
      "\u001b[0;31m---------------------------------------------------------------------------\u001b[0m",
      "\u001b[0;31mInternalError_\u001b[0m                            Traceback (most recent call last)",
      "Cell \u001b[0;32mIn[19], line 1\u001b[0m\n\u001b[0;32m----> 1\u001b[0m \u001b[43mcursor\u001b[49m\u001b[38;5;241;43m.\u001b[39;49m\u001b[43mexecute\u001b[49m\u001b[43m(\u001b[49m\u001b[38;5;124;43m\"\"\"\u001b[39;49m\u001b[38;5;124;43mCREATE INDEX ON products_embeddings_pgvector USING hnsw (embedding vector_l2_ops)\u001b[39;49m\n\u001b[1;32m      2\u001b[0m \u001b[38;5;124;43mWITH (m = 16, ef_construction = 64);\u001b[39;49m\u001b[38;5;124;43m\"\"\"\u001b[39;49m\u001b[43m)\u001b[49m\n",
      "\u001b[0;31mInternalError_\u001b[0m: column cannot have more than 2000 dimensions for hnsw index\n"
     ]
    }
   ],
   "source": [
    "cursor.execute(\"\"\"CREATE INDEX ON products_embeddings_pgvector USING hnsw (embedding vector_l2_ops)\n",
    "WITH (m = 16, ef_construction = 64);\"\"\")"
   ]
  },
  {
   "cell_type": "markdown",
   "metadata": {},
   "source": [
    "# Benchmarking Pgvector vs Vchord"
   ]
  },
  {
   "cell_type": "code",
   "execution_count": 3,
   "metadata": {},
   "outputs": [],
   "source": [
    "conn = create_db_connection() # Connect to the database\n",
    "conn.autocommit = True  # Enable autocommit for creating the database\n",
    "cursor = conn.cursor()"
   ]
  },
  {
   "cell_type": "markdown",
   "metadata": {},
   "source": [
    "## Pgvector"
   ]
  },
  {
   "cell_type": "code",
   "execution_count": 27,
   "metadata": {},
   "outputs": [],
   "source": [
    "cursor.execute(\"\"\"\n",
    "        CREATE TABLE IF NOT EXISTS benchmark_embeddings_pgvec(\n",
    "            img_id INTEGER PRIMARY KEY REFERENCES products(img_id) ON DELETE CASCADE,\n",
    "            embedding vector(384));\"\"\")\n",
    "\n",
    "\n",
    "\n",
    "cursor.execute(\"\"\"CREATE INDEX ON benchmark_embeddings_pgvec USING hnsw (embedding vector_l2_ops)\n",
    "WITH (m = 16, ef_construction = 64);\"\"\")\n",
    "\n"
   ]
  },
  {
   "cell_type": "code",
   "execution_count": 4,
   "metadata": {},
   "outputs": [],
   "source": [
    "import time\n",
    "\n",
    "from transformers import AutoTokenizer, AutoModel\n",
    "# Load the model and processor\n",
    "text_tokenizer = AutoTokenizer.from_pretrained(\"sentence-transformers/paraphrase-multilingual-MiniLM-L12-v2\")\n",
    "text_model = AutoModel.from_pretrained(\"sentence-transformers/paraphrase-multilingual-MiniLM-L12-v2\")"
   ]
  },
  {
   "cell_type": "markdown",
   "metadata": {},
   "source": [
    "## Embedding Generation in batches"
   ]
  },
  {
   "cell_type": "code",
   "execution_count": null,
   "metadata": {},
   "outputs": [
    {
     "name": "stdout",
     "output_type": "stream",
     "text": [
      "Total Rows: 44433\n",
      "Total function execution time: 309.5544641017914 seconds\n",
      "Model loading time: 1.4021379947662354 seconds\n",
      "Fetching time: 0.04068493843078613 seconds\n"
     ]
    }
   ],
   "source": [
    "# Initialize timing variables for overall function performance tracking\n",
    "function_start_time = time.time()\n",
    "\n",
    "# Fetch data from the database\n",
    "fetch_start = time.time()\n",
    "cursor = conn.cursor()\n",
    "cursor.execute(\"SELECT img_id, productdisplayname FROM products;\")\n",
    "result = cursor.fetchall()\n",
    "fetch_end = time.time()\n",
    "\n",
    "batch_size = 1000\n",
    "total_rows_inserted = 0\n",
    "\n",
    "for i in range(0, len(result), batch_size):\n",
    "    batch_data = [(row[0], row[1]) for row in result[i:i+batch_size] if row[1]]\n",
    "    if not batch_data:\n",
    "        continue\n",
    "\n",
    "    batch_ids, batch_texts = zip(*batch_data)\n",
    "    batch_texts = [text for text in batch_texts if text]\n",
    "\n",
    "    if not batch_texts:\n",
    "        continue\n",
    "\n",
    "    text_inputs = text_tokenizer(list(batch_texts), return_tensors=\"pt\", padding=True, truncation=True)\n",
    "    text_model_output = text_model(**text_inputs)\n",
    "    text_embeddings = text_model_output.last_hidden_state.mean(dim=1).squeeze().detach().cpu().numpy().tolist()\n",
    "\n",
    "    with conn.cursor() as cursor:\n",
    "        for idx, embedding in enumerate(text_embeddings):\n",
    "            cursor.execute(\n",
    "                \"INSERT INTO benchmark_embeddings_pgvec (img_id, embedding) VALUES (%s, %s)\",\n",
    "                (batch_ids[idx], embedding)\n",
    "            )\n",
    "            total_rows_inserted += 1\n",
    "\n",
    "function_end_time = time.time()\n",
    "total_time = function_end_time - function_start_time\n",
    "\n",
    "print(f\"Total Rows: {total_rows_inserted}\")\n",
    "print(f\"Total function execution time: {total_time} seconds\")\n",
    "print(f\"Fetching time: {fetch_end - fetch_start} seconds\")\n",
    "# Total Rows: 44433\n",
    "# Total function execution time: 309.5544641017914 seconds\n",
    "# Embedding Insertion time: 308.15446400642395 seconds ~ 5 minutes\n",
    "# Model loading time: 1.4021379947662354 seconds\n",
    "# Fetching time: 0.04068493843078613 seconds\n"
   ]
  },
  {
   "cell_type": "markdown",
   "metadata": {},
   "source": [
    "## QPS Measurement"
   ]
  },
  {
   "cell_type": "code",
   "execution_count": 38,
   "metadata": {},
   "outputs": [],
   "source": [
    "def measure_qps(QUERY, iterations=100):\n",
    "    conn = create_db_connection() # Connect to the database\n",
    "    conn.autocommit = True  # Enable autocommit for creating the database\n",
    "    cursor = conn.cursor()\n",
    "    start_time = time.time()\n",
    "    for _ in range(iterations):\n",
    "        cursor.execute(QUERY)  # Create the database\n",
    "        cursor.fetchall()\n",
    "    elapsed_time = time.time() - start_time\n",
    "    qps = iterations / elapsed_time\n",
    "    cursor.close()\n",
    "    conn.close()\n",
    "\n",
    "    return qps"
   ]
  },
  {
   "cell_type": "markdown",
   "metadata": {},
   "source": [
    "### Generate Text Embedding for the Sample Text"
   ]
  },
  {
   "cell_type": "code",
   "execution_count": 5,
   "metadata": {},
   "outputs": [],
   "source": [
    "sample_text = \"summer outfit for thailand\"\n",
    "text_inputs = text_tokenizer(sample_text, return_tensors=\"pt\", padding=True, truncation=True)\n",
    "text_model_output = text_model(**text_inputs)\n",
    "text_embeddings = text_model_output.last_hidden_state.mean(dim=1).squeeze().detach().cpu().numpy().tolist()"
   ]
  },
  {
   "cell_type": "code",
   "execution_count": 11,
   "metadata": {},
   "outputs": [
    {
     "name": "stdout",
     "output_type": "stream",
     "text": [
      "[0.09742061048746109, 0.49918133020401, -0.03261876106262207, 0.2645748257637024, 0.18288983404636383, 0.4575275778770447, 0.14676101505756378, 0.3150811493396759, -0.517536997795105, -0.17801591753959656, 0.2541957497596741, -0.5055475831031799, 0.0705580860376358, 0.4711122512817383, 0.6484673619270325, -0.19533346593379974, 0.261547327041626, 0.186905637383461, 0.3899439871311188, -0.4635244905948639, 0.21711668372154236, -0.07681413739919662, 0.25348740816116333, 0.12105589359998703, -0.03783831745386124, -0.5198584198951721, 0.48314517736434937, 0.4928768575191498, 0.07294569164514542, -0.21590955555438995, -0.2320374697446823, -0.021451549604535103, -0.22492942214012146, 0.2875055968761444, 0.15024526417255402, 0.23689620196819305, -0.3735382556915283, -0.08480574190616608, 0.07344142347574234, 0.6083762049674988, -0.23195263743400574, -0.2714826762676239, -0.19037440419197083, -0.11485058814287186, 0.2223883420228958, 0.4921382963657379, 0.0323888435959816, -0.23294684290885925, -0.46515294909477234, 0.47612762451171875, 0.5003504157066345, -0.4967336058616638, -0.3166685104370117, -0.3825823664665222, 0.10484935343265533, 0.0826335996389389, -0.04285689815878868, 0.16741278767585754, -0.20582620799541473, -0.44907599687576294, -0.19572339951992035, 0.1849067509174347, -0.17568647861480713, 0.17995236814022064, -0.8226770162582397, -0.18839490413665771, -0.2881605327129364, -0.1557323932647705, 0.04663849622011185, -0.3750746548175812, -0.03378496691584587, -0.20285938680171967, 0.39729684591293335, 0.14579446613788605, -0.08095365017652512, 0.24584898352622986, -0.2795751988887787, 0.07985680550336838, -0.050914112478494644, -0.23840458691120148, 0.2677540183067322, -0.13852332532405853, 0.29585808515548706, 0.00037054717540740967, 0.2931496798992157, -0.07576090097427368, 0.08842658996582031, -0.205800399184227, -0.18899250030517578, 0.05351603031158447, 0.0211434755474329, 0.03480493277311325, -0.0491352379322052, 0.19342274963855743, -0.05919945612549782, 0.012879066169261932, -0.18481504917144775, 0.0847981721162796, 0.024114975705742836, 0.6506922841072083, 0.2830871641635895, -0.011874520219862461, 0.0783054381608963, 0.37222686409950256, -0.30468398332595825, -0.1249045804142952, 0.27261027693748474, 0.04294919967651367, 0.10253135114908218, 0.09791062772274017, -0.40885213017463684, 0.2269219607114792, -0.1324959248304367, -0.31449365615844727, -0.5837432742118835, -0.11458013951778412, -0.31908485293388367, 0.0749528631567955, -0.22645001113414764, 0.3527763783931732, 0.03525138646364212, -0.2134314328432083, 0.20275351405143738, -0.30526605248451233, -0.20725658535957336, 0.03189234808087349, 0.257747083902359, 0.06441027671098709, -0.2354181855916977, 0.07375039160251617, 0.29976436495780945, 0.14016787707805634, 0.24771352112293243, 0.11568445712327957, 0.23281040787696838, -0.6697320938110352, -0.14333605766296387, -0.22851133346557617, -0.07686376571655273, -0.2929718792438507, -0.4832497239112854, 0.18909795582294464, 0.23915229737758636, 0.06444760411977768, 0.3612528443336487, -0.28061744570732117, -0.34963110089302063, 0.1341032236814499, -0.12405551224946976, 0.14210402965545654, -0.042316678911447525, -0.08450962603092194, -0.1054842621088028, 0.0445297434926033, 0.2207842320203781, 0.3338475525379181, 0.03512226417660713, -0.10965047776699066, 0.2541898190975189, -0.12353336811065674, -0.05699590966105461, -0.008258900605142117, -0.6047337651252747, -0.21312212944030762, -0.8504300117492676, -0.2758425176143646, 0.07257810980081558, -0.1454063355922699, 0.37744468450546265, 0.12360472977161407, -0.26687148213386536, 0.13603074848651886, -0.1675504744052887, 0.33096781373023987, 0.12106738239526749, 0.41872525215148926, 0.16633501648902893, -0.11639005690813065, -0.5440191030502319, -0.04950413480401039, -0.13078364729881287, 0.02122735045850277, 0.3775106966495514, -0.05092832073569298, 0.8121853470802307, -0.30769094824790955, -0.2251589298248291, -0.10606713593006134, 0.6708601713180542, 0.16386376321315765, -0.07680841535329819, -0.23243831098079681, 0.2773345708847046, -0.19003595411777496, 0.25410205125808716, 0.08244002610445023, -0.2042507827281952, -0.29764920473098755, 0.08964954316616058, -0.2617628574371338, -0.14929327368736267, 0.16900435090065002, 0.03733310475945473, -0.4650423228740692, 0.6575135588645935, 0.10821462422609329, 0.17851734161376953, -0.09836733341217041, -0.13090252876281738, 0.5817781686782837, 0.08921795338392258, 0.33738213777542114, 0.027142737060785294, -0.19084562361240387, 0.3151596188545227, 0.2705049216747284, 0.49612754583358765, -0.17094863951206207, 0.11387448757886887, -0.26544225215911865, -0.0679672509431839, -0.2990885078907013, -0.11352521926164627, -0.31062254309654236, -0.03342089429497719, 0.1407465785741806, 0.1589237004518509, -0.12846295535564423, 0.7312979102134705, -0.33030885457992554, 0.06577388197183609, -0.023090535774827003, 0.07473407685756683, 0.21322713792324066, -0.26613375544548035, -0.21842963993549347, 0.16432499885559082, -0.3307705223560333, 0.6663755178451538, 0.12737169861793518, 0.042011115700006485, 0.6635159254074097, 0.23050925135612488, 0.3029860854148865, 0.5909188389778137, -0.2663329243659973, -0.2242400348186493, -0.2894763648509979, -0.35085517168045044, 0.31769174337387085, -0.14334890246391296, -0.057607702910900116, -0.35041096806526184, -0.03047189675271511, 0.07677770406007767, -0.49500247836112976, 0.25333085656166077, 0.4992930591106415, -0.6854051351547241, -0.11764056980609894, -0.035133134573698044, -0.09737343341112137, -0.12262594699859619, 0.13834674656391144, 0.404145747423172, -0.6062812805175781, -0.0983092412352562, -0.007142066955566406, 0.07905064523220062, -0.6069747805595398, 0.03486069664359093, -0.48754364252090454, 0.18549667298793793, -0.47465118765830994, 0.005454686004668474, 0.20652072131633759, -0.33504706621170044, -0.04989254102110863, -0.01778552122414112, 0.28419211506843567, 0.01871858723461628, -0.002907342044636607, 0.628482460975647, -0.11766643077135086, 0.0694955363869667, -0.07737861573696136, -0.2639698088169098, 0.057474713772535324, -0.19631923735141754, 0.12694032490253448, 0.6070435643196106, 0.4372637867927551, -0.14021356403827667, -0.6632922291755676, -0.010569900274276733, -0.025874817743897438, 0.14566883444786072, 0.4095064699649811, 0.04999594762921333, -0.19702740013599396, 0.34836164116859436, 0.6217816472053528, 0.5985726714134216, 0.08155538141727448, -0.23967719078063965, -0.5381646156311035, -0.2985968291759491, -0.23037953674793243, 0.4289696514606476, -0.13720981776714325, -0.2953493893146515, 0.04264624044299126, -0.6227273344993591, 0.09450741112232208, 0.3377222716808319, 0.25773605704307556, 0.2412605583667755, 0.48334187269210815, 0.012269268743693829, -0.3037653863430023, -0.1127106100320816, -0.4580943286418915, 0.1458543837070465, 0.5470634698867798, -0.15304161608219147, -0.00611581327393651, 0.010426853783428669, -0.4795088469982147, 0.03731180354952812, 0.24375446140766144, -0.09793317317962646, -0.026712587103247643, 0.5632129311561584, 0.4737153947353363, -0.010395048186182976, 0.10017663985490799, -0.1694290190935135, 0.44417962431907654, -0.07020236551761627, -0.30777058005332947, 0.021759631112217903, 0.3220398724079132, 0.14791782200336456, -0.18612386286258698, -0.3011143207550049, -0.2600925862789154, -0.1899072825908661, 0.058319222182035446, 0.2052849978208542, -0.027517450973391533, 0.04485439509153366, -0.01156635768711567, 0.10609831660985947, -0.42378607392311096, -0.31804895401000977, -0.3698336184024811, -0.11658240854740143, -0.08494962006807327, -0.14628545939922333, 0.49972718954086304, -0.12965838611125946, -0.27054521441459656, 0.07990990579128265, 0.2490413635969162, 0.5580453276634216, -0.1816195398569107, -0.3293829560279846, -0.24719223380088806, -0.345032274723053, 0.08064467459917068, -0.1954721212387085, -0.5179261565208435, 0.3804040253162384, -0.22377589344978333, -0.2558828294277191, 0.23088569939136505, -0.01315454114228487, -0.14998462796211243, 0.0770958811044693, 0.5944129824638367, 0.28078633546829224, -0.4612378776073456, -0.8002312779426575, 0.17086894810199738]\n"
     ]
    }
   ],
   "source": [
    "print(text_embeddings)"
   ]
  },
  {
   "cell_type": "markdown",
   "metadata": {},
   "source": [
    "## PGConf DE Experiments"
   ]
  },
  {
   "cell_type": "markdown",
   "metadata": {},
   "source": [
    "### Partial Index on pgvector"
   ]
  },
  {
   "cell_type": "code",
   "execution_count": null,
   "metadata": {},
   "outputs": [],
   "source": [
    "# QUERY = f\"\"\"SELECT img_id, 1-(embedding <-> '{text_embeddings}') AS score FROM benchmark_embeddings_pgvec ORDER BY embedding <-> '{text_embeddings}' LIMIT 10;\"\"\"\n",
    "QUERY = f\"\"\"SELECT img_id,gender, productdisplayname , 1-(embeddings <-> '{text_embeddings}') AS score FROM product_vector WHERE gender='Men' ORDER BY score LIMIT 10\"\"\";\n",
    " \n",
    "conn = create_db_connection() # Connect to the database\n",
    "cursor = conn.cursor()\n",
    "\n",
    "\n",
    "cursor.execute(QUERY)  # Create the database\n",
    "cursor.fetchall()\n",
    "# print(f\"Queries Per Second (QPS): {qps:.2f}\")"
   ]
  },
  {
   "cell_type": "markdown",
   "metadata": {},
   "source": [
    "### QPS Measurement for pgvector"
   ]
  },
  {
   "cell_type": "code",
   "execution_count": null,
   "metadata": {},
   "outputs": [
    {
     "data": {
      "text/plain": [
       "[('14170', 'Men', 'Belmonte Men Rough Finish Black Belts', -5.024000802028648),\n",
       " ('17031', 'Men', 'Gas Men Black Wave Flip Flops', -5.010693557505351),\n",
       " ('25794', 'Men', 'Arrow Men Navy Blue Suspenders', -4.990658163298269),\n",
       " ('49867', 'Men', 'Q&Q Men Black Digital Watch', -4.980545930470298),\n",
       " ('53598', 'Men', 'Q&Q Men Black Digital Watch', -4.980545930470298),\n",
       " ('44126', 'Men', 'Boss Men After Shave', -4.9755864960828715),\n",
       " ('55869',\n",
       "  'Women',\n",
       "  'Colorbar All Fired Up 2 Nail Lacquer 83V',\n",
       "  -4.973074579651758),\n",
       " ('40779', 'Men', 'Quiksilver Men Brown Flip Flops', -4.973047756339448),\n",
       " ('38003', 'Men', 'Q&Q Men Black Watch', -4.969948213950109),\n",
       " ('17380',\n",
       "  'Men',\n",
       "  'Reid & Taylor Men Check Multi Muffler',\n",
       "  -4.9677183847536375)]"
      ]
     },
     "execution_count": 9,
     "metadata": {},
     "output_type": "execute_result"
    }
   ],
   "source": [
    "# QUERY = f\"\"\"SELECT img_id, 1-(embedding <-> '{text_embeddings}') AS score FROM benchmark_embeddings_pgvec ORDER BY embedding <-> '{text_embeddings}' LIMIT 10;\"\"\"\n",
    "QUERY = f\"\"\"SELECT img_id,gender, productdisplayname , 1-(embeddings <-> '{text_embeddings}') AS score FROM product_vector WHERE gender='Men' ORDER BY score LIMIT 10\"\"\";\n",
    " \n",
    "# Run the benchmark\n",
    "iterations = 100\n",
    "qps = measure_qps(QUERY, iterations)\n",
    "print(f\"Queries Per Second (QPS): {qps:.2f}\")"
   ]
  },
  {
   "cell_type": "code",
   "execution_count": null,
   "metadata": {},
   "outputs": [],
   "source": [
    "conn = create_db_connection() # Connect to the database\n",
    "conn.autocommit = True  # Enable autocommit for creating the database\n",
    "cursor = conn.cursor()"
   ]
  },
  {
   "cell_type": "code",
   "execution_count": 72,
   "metadata": {},
   "outputs": [
    {
     "data": {
      "text/plain": [
       "0.007653951644897461"
      ]
     },
     "execution_count": 72,
     "metadata": {},
     "output_type": "execute_result"
    }
   ],
   "source": [
    "QUERY = f\"\"\"SELECT img_id, 1-(embedding <-> '{text_embeddings}') AS score FROM benchmark_embeddings_pgvec ORDER BY embedding <-> '{text_embeddings}' LIMIT 1000;\"\"\"\n",
    "start_time = time.time()\n",
    "cursor.execute(QUERY)  # Create the database\n",
    "cursor.fetchall()\n",
    "time.time() - start_time"
   ]
  },
  {
   "cell_type": "markdown",
   "metadata": {},
   "source": [
    "## Vchord"
   ]
  },
  {
   "cell_type": "code",
   "execution_count": 46,
   "metadata": {},
   "outputs": [
    {
     "ename": "InterfaceError",
     "evalue": "cursor already closed",
     "output_type": "error",
     "traceback": [
      "\u001b[0;31m---------------------------------------------------------------------------\u001b[0m",
      "\u001b[0;31mInterfaceError\u001b[0m                            Traceback (most recent call last)",
      "Cell \u001b[0;32mIn[46], line 1\u001b[0m\n\u001b[0;32m----> 1\u001b[0m \u001b[43mcursor\u001b[49m\u001b[38;5;241;43m.\u001b[39;49m\u001b[43mexecute\u001b[49m\u001b[43m(\u001b[49m\u001b[38;5;124;43m\"\"\"\u001b[39;49m\n\u001b[1;32m      2\u001b[0m \u001b[38;5;124;43m        CREATE TABLE IF NOT EXISTS benchmark_embeddings_vchord2(\u001b[39;49m\n\u001b[1;32m      3\u001b[0m \u001b[38;5;124;43m            img_id INTEGER PRIMARY KEY REFERENCES products(img_id) ON DELETE CASCADE,\u001b[39;49m\n\u001b[1;32m      4\u001b[0m \u001b[38;5;124;43m            embedding vector(384));\u001b[39;49m\n\u001b[1;32m      5\u001b[0m \u001b[38;5;124;43m    \u001b[39;49m\u001b[38;5;124;43m\"\"\"\u001b[39;49m\u001b[43m)\u001b[49m\n\u001b[1;32m      7\u001b[0m cursor\u001b[38;5;241m.\u001b[39mexecute(\u001b[38;5;124m\"\"\"\u001b[39m\u001b[38;5;124mCREATE INDEX ON benchmark_embeddings_vchord2 USING vchordrq (embedding vector_l2_ops) WITH (options = $$\u001b[39m\n\u001b[1;32m      8\u001b[0m \u001b[38;5;124mresidual_quantization = false\u001b[39m\n\u001b[1;32m      9\u001b[0m \u001b[38;5;124m[build.internal]\u001b[39m\n\u001b[1;32m     10\u001b[0m \u001b[38;5;124mlists = [1000]\u001b[39m\n\u001b[1;32m     11\u001b[0m \u001b[38;5;124mspherical_centroids = true\u001b[39m\n\u001b[1;32m     12\u001b[0m \u001b[38;5;124m$$);\u001b[39m\u001b[38;5;124m\"\"\"\u001b[39m)\n",
      "\u001b[0;31mInterfaceError\u001b[0m: cursor already closed"
     ]
    }
   ],
   "source": [
    "cursor.execute(\"\"\"\n",
    "        CREATE TABLE IF NOT EXISTS benchmark_embeddings_vchord2(\n",
    "            img_id INTEGER PRIMARY KEY REFERENCES products(img_id) ON DELETE CASCADE,\n",
    "            embedding vector(384));\n",
    "    \"\"\")\n",
    "\n",
    "cursor.execute(\"\"\"CREATE INDEX ON benchmark_embeddings_vchord2 USING vchordrq (embedding vector_l2_ops) WITH (options = $$\n",
    "residual_quantization = false\n",
    "[build.internal]\n",
    "lists = [1000]\n",
    "spherical_centroids = true\n",
    "$$);\"\"\")"
   ]
  },
  {
   "cell_type": "code",
   "execution_count": null,
   "metadata": {},
   "outputs": [
    {
     "name": "stdout",
     "output_type": "stream",
     "text": [
      "Total Rows: 44433\n",
      "Total function execution time: 249.79474711418152 seconds\n",
      "Model loading time: 1.8063030242919922 seconds\n",
      "Fetching time: 0.04993581771850586 seconds\n"
     ]
    }
   ],
   "source": [
    "# Initialize timing variables for overall function performance tracking\n",
    "function_start_time = time.time()\n",
    "\n",
    "# Fetch data from the database\n",
    "fetch_start = time.time()\n",
    "cursor = conn.cursor()\n",
    "cursor.execute(\"SELECT img_id, productdisplayname FROM products;\")\n",
    "result = cursor.fetchall()\n",
    "fetch_end = time.time()\n",
    "\n",
    "batch_size = 1000\n",
    "total_rows_inserted = 0\n",
    "\n",
    "for i in range(0, len(result), batch_size):\n",
    "    batch_data = [(row[0], row[1]) for row in result[i:i+batch_size] if row[1]]\n",
    "    if not batch_data:\n",
    "        continue\n",
    "\n",
    "    batch_ids, batch_texts = zip(*batch_data)\n",
    "    batch_texts = [text for text in batch_texts if text]\n",
    "\n",
    "    if not batch_texts:\n",
    "        continue\n",
    "\n",
    "    text_inputs = text_tokenizer(list(batch_texts), return_tensors=\"pt\", padding=True, truncation=True)\n",
    "    text_model_output = text_model(**text_inputs)\n",
    "    text_embeddings = text_model_output.last_hidden_state.mean(dim=1).squeeze().detach().cpu().numpy().tolist()\n",
    "\n",
    "    with conn.cursor() as cursor:\n",
    "        for idx, embedding in enumerate(text_embeddings):\n",
    "            cursor.execute(\n",
    "                \"INSERT INTO benchmark_embeddings_vchord2 (img_id, embedding) VALUES (%s, %s)\",\n",
    "                (batch_ids[idx], embedding)\n",
    "            )\n",
    "            total_rows_inserted += 1\n",
    "\n",
    "function_end_time = time.time()\n",
    "total_time = function_end_time - function_start_time\n",
    "\n",
    "print(f\"Total Rows: {total_rows_inserted}\")\n",
    "print(f\"Total function execution time: {total_time} seconds\")\n",
    "print(f\"Fetching time: {fetch_end - fetch_start} seconds\")\n",
    "\n",
    "# Total Rows: 44433\n",
    "# Total function execution time: 249.79474711418152 seconds\n",
    "# Embedding Insertion time: 248.98874711990356 seconds ~ 4 minutes\n",
    "# Model loading time: 1.8063030242919922 seconds\n",
    "# Fetching time: 0.04993581771850586 seconds"
   ]
  },
  {
   "cell_type": "markdown",
   "metadata": {},
   "source": [
    "### QPS Vchord"
   ]
  },
  {
   "cell_type": "code",
   "execution_count": 75,
   "metadata": {},
   "outputs": [
    {
     "name": "stdout",
     "output_type": "stream",
     "text": [
      "Queries Per Second (QPS): 540.76\n"
     ]
    }
   ],
   "source": [
    "QUERY = f\"\"\"SELECT img_id, 1-(embedding <-> '{text_embeddings}') AS score FROM benchmark_embeddings_vchord2 ORDER BY embedding <-> '{text_embeddings}' LIMIT 10;\"\"\"\n",
    "# Run the benchmark\n",
    "iterations = 100\n",
    "qps = measure_qps(QUERY, iterations)\n",
    "print(f\"Queries Per Second (QPS): {qps:.2f}\")"
   ]
  },
  {
   "cell_type": "code",
   "execution_count": 73,
   "metadata": {},
   "outputs": [
    {
     "data": {
      "text/plain": [
       "0.01081395149230957"
      ]
     },
     "execution_count": 73,
     "metadata": {},
     "output_type": "execute_result"
    }
   ],
   "source": [
    "QUERY = f\"\"\"SELECT img_id, 1-(embedding <-> '{text_embeddings}') AS score FROM benchmark_embeddings_vchord2 ORDER BY embedding <-> '{text_embeddings}' LIMIT 1000;\"\"\"\n",
    "start_time = time.time()\n",
    "cursor.execute(QUERY)  # Create the database\n",
    "cursor.fetchall()\n",
    "time.time() - start_time"
   ]
  },
  {
   "cell_type": "code",
   "execution_count": 68,
   "metadata": {},
   "outputs": [
    {
     "data": {
      "text/plain": [
       "[('Limit  (cost=0.00..2.18 rows=10 width=20) (actual time=1.370..1.914 rows=10 loops=1)',),\n",
       " ('  ->  Index Scan using benchmark_embeddings_vchord2_embedding_idx on benchmark_embeddings_vchord2  (cost=0.00..9667.58 rows=44433 width=20) (actual time=1.367..1.888 rows=10 loops=1)',),\n",
       " (\"        Order By: (embedding <-> '[0.09742063,0.4991813,-0.032618724,0.2645749,0.18288991,0.45752755,0.14676102,0.31508112,-0.51753694,-0.17801586,0.25419584,-0.50554764,0.070558235,0.47111228,0.6484674,-0.19533338,0.26154727,0.18690552,0.38994405,-0.46352467,0.21711674,-0.07681413,0.25348747,0.12105579,-0.037838425,-0.5198583,0.4831451,0.49287698,0.07294557,-0.21590959,-0.23203763,-0.021451745,-0.22492945,0.2875056,0.15024522,0.23689626,-0.37353808,-0.084805526,0.07344134,0.6083763,-0.23195252,-0.27148265,-0.19037423,-0.11485064,0.22238834,0.4921384,0.032388713,-0.232947,-0.46515298,0.47612762,0.50035065,-0.49673364,-0.31666833,-0.38258243,0.104849204,0.0826336,-0.042856835,0.16741274,-0.20582621,-0.44907612,-0.19572355,0.18490686,-0.17568634,0.17995249,-0.82267696,-0.18839502,-0.2881605,-0.15573236,0.04663871,-0.37507463,-0.03378501,-0.2028593,0.39729694,0.1457944,-0.08095365,0.24584916,-0.2795754,0.07985698,-0.050913844,-0.23840441,0.2677541,-0.1385233,0.29585823,0.0003706153,0.29314968,-0.0757609,0.088426605,-0.20580062,-0.18899259,0.053515993,0.021143584,0.034804855,-0.049135204,0.19342282,-0.059199333,0.012879076,-0.184815,0.0847984,0.02411506,0.6506921,0.28308707,-0.01187471,0.07830541,0.3722268,-0.30468383,-0.12490474,0.27261016,0.042948954,0.102531455,0.097910784,-0.40885207,0.22692204,-0.1324959,-0.31449345,-0.5837433,-0.11458,-0.31908518,0.07495303,-0.2264502,0.3527763,0.035251357,-0.21343146,0.20275351,-0.3052662,-0.20725664,0.031892356,0.2577471,0.064410284,-0.23541811,0.0737504,0.29976434,0.14016792,0.24771354,0.11568434,0.2328104,-0.6697321,-0.14333604,-0.2285112,-0.07686383,-0.2929717,-0.48324966,0.18909788,0.2391523,0.06444768,0.3612528,-0.2806175,-0.34963104,0.13410324,-0.12405546,0.14210398,-0.042316727,-0.08450953,-0.10548435,0.044529647,0.22078428,0.33384752,0.035122328,-0.109650545,0.25418982,-0.12353335,-0.056995876,-0.008258834,-0.6047336,-0.2131221,-0.8504299,-0.2758424,0.07257823,-0.14540653,0.3774446,0.12360471,-0.26687172,0.13603069,-0.1675504,0.33096763,0.12106737,0.41872507,0.16633497,-0.11639004,-0.54401916,-0.04950428,-0.13078374,0.021227386,0.3775108,-0.050928354,0.8121854,-0.307691,-0.22515896,-0.10606714,0.6708601,0.16386378,-0.076808386,-0.23243825,0.27733454,-0.19003607,0.25410208,0.082440116,-0.20425059,-0.2976494,0.08964958,-0.2617628,-0.14929345,0.1690043,0.037332945,-0.4650426,0.6575133,0.10821462,0.17851742,-0.09836733,-0.13090257,0.5817784,0.08921786,0.33738226,0.027142694,-0.19084564,0.31515974,0.27050486,0.49612743,-0.17094867,0.11387452,-0.26544204,-0.06796722,-0.29908857,-0.113525175,-0.31062254,-0.033420958,0.14074667,0.15892394,-0.1284628,0.73129785,-0.3303089,0.06577403,-0.02309044,0.07473409,0.21322708,-0.26613376,-0.21842968,0.16432498,-0.33077043,0.66637546,0.12737167,0.042011164,0.66351587,0.23050906,0.30298606,0.59091884,-0.26633295,-0.22423978,-0.28947613,-0.35085514,0.31769186,-0.14334886,-0.05760779,-0.350411,-0.0304719,0.0767775,-0.49500236,0.25333092,0.49929303,-0.6854052,-0.117640726,-0.035133194,-0.09737335,-0.12262587,0.13834664,0.4041458,-0.60628134,-0.09830924,-0.00714225,0.07905058,-0.6069748,0.03486077,-0.48754364,0.1854966,-0.47465128,0.005454476,0.20652077,-0.33504716,-0.049892545,-0.01778563,0.28419214,0.018718584,-0.0029072228,0.6284824,-0.11766647,0.06949557,-0.07737863,-0.2639697,0.05747473,-0.1963192,0.12694046,0.60704356,0.43726382,-0.14021358,-0.6632924,-0.010569845,-0.025874782,0.1456689,0.40950653,0.04999606,-0.19702734,0.34836143,0.62178147,0.5985728,0.08155538,-0.23967727,-0.5381645,-0.2985967,-0.23037948,0.4289697,-0.13720974,-0.29534942,0.04264627,-0.6227274,0.09450743,0.33772233,0.257736,0.24126045,0.48334175,0.0122693395,-0.30376545,-0.11271064,-0.4580944,0.14585458,0.5470635,-0.15304163,-0.0061156056,0.010426874,-0.47950882,0.037311874,0.24375431,-0.09793319,-0.026712677,0.56321275,0.47371545,-0.010395095,0.100176826,-0.16942908,0.4441796,-0.070202336,-0.3077708,0.021759491,0.3220397,0.14791782,-0.18612356,-0.30111423,-0.26009265,-0.18990721,0.058319163,0.20528506,-0.027517345,0.044854444,-0.011566566,0.10609825,-0.4237861,-0.3180491,-0.36983374,-0.11658233,-0.08494966,-0.14628534,0.4997272,-0.12965855,-0.27054504,0.07990996,0.24904135,0.5580453,-0.18161948,-0.329383,-0.2471923,-0.3450323,0.08064479,-0.195472,-0.51792634,0.38040397,-0.22377588,-0.25588265,0.23088567,-0.013154494,-0.1499848,0.07709574,0.5944129,0.28078634,-0.46123788,-0.8002313,0.17086896]'::vector)\",),\n",
       " ('Planning Time: 0.183 ms',),\n",
       " ('Execution Time: 2.520 ms',)]"
      ]
     },
     "execution_count": 68,
     "metadata": {},
     "output_type": "execute_result"
    }
   ],
   "source": [
    "QUERY = f\"\"\"EXPLAIN ANALYZE SELECT img_id, 1-(embedding <-> '{text_embeddings}') AS score FROM benchmark_embeddings_vchord2 ORDER BY embedding <-> '{text_embeddings}' LIMIT 10;\"\"\"\n",
    "cursor.execute(QUERY)  # Create the database\n",
    "cursor.fetchall()"
   ]
  },
  {
   "cell_type": "code",
   "execution_count": 69,
   "metadata": {},
   "outputs": [
    {
     "data": {
      "text/plain": [
       "[('Limit  (cost=72.60..80.78 rows=10 width=20) (actual time=1.579..1.607 rows=10 loops=1)',),\n",
       " ('  ->  Index Scan using benchmark_embeddings_pgvec_embedding_idx on benchmark_embeddings_pgvec  (cost=72.60..36398.18 rows=44433 width=20) (actual time=1.576..1.602 rows=10 loops=1)',),\n",
       " (\"        Order By: (embedding <-> '[0.09742063,0.4991813,-0.032618724,0.2645749,0.18288991,0.45752755,0.14676102,0.31508112,-0.51753694,-0.17801586,0.25419584,-0.50554764,0.070558235,0.47111228,0.6484674,-0.19533338,0.26154727,0.18690552,0.38994405,-0.46352467,0.21711674,-0.07681413,0.25348747,0.12105579,-0.037838425,-0.5198583,0.4831451,0.49287698,0.07294557,-0.21590959,-0.23203763,-0.021451745,-0.22492945,0.2875056,0.15024522,0.23689626,-0.37353808,-0.084805526,0.07344134,0.6083763,-0.23195252,-0.27148265,-0.19037423,-0.11485064,0.22238834,0.4921384,0.032388713,-0.232947,-0.46515298,0.47612762,0.50035065,-0.49673364,-0.31666833,-0.38258243,0.104849204,0.0826336,-0.042856835,0.16741274,-0.20582621,-0.44907612,-0.19572355,0.18490686,-0.17568634,0.17995249,-0.82267696,-0.18839502,-0.2881605,-0.15573236,0.04663871,-0.37507463,-0.03378501,-0.2028593,0.39729694,0.1457944,-0.08095365,0.24584916,-0.2795754,0.07985698,-0.050913844,-0.23840441,0.2677541,-0.1385233,0.29585823,0.0003706153,0.29314968,-0.0757609,0.088426605,-0.20580062,-0.18899259,0.053515993,0.021143584,0.034804855,-0.049135204,0.19342282,-0.059199333,0.012879076,-0.184815,0.0847984,0.02411506,0.6506921,0.28308707,-0.01187471,0.07830541,0.3722268,-0.30468383,-0.12490474,0.27261016,0.042948954,0.102531455,0.097910784,-0.40885207,0.22692204,-0.1324959,-0.31449345,-0.5837433,-0.11458,-0.31908518,0.07495303,-0.2264502,0.3527763,0.035251357,-0.21343146,0.20275351,-0.3052662,-0.20725664,0.031892356,0.2577471,0.064410284,-0.23541811,0.0737504,0.29976434,0.14016792,0.24771354,0.11568434,0.2328104,-0.6697321,-0.14333604,-0.2285112,-0.07686383,-0.2929717,-0.48324966,0.18909788,0.2391523,0.06444768,0.3612528,-0.2806175,-0.34963104,0.13410324,-0.12405546,0.14210398,-0.042316727,-0.08450953,-0.10548435,0.044529647,0.22078428,0.33384752,0.035122328,-0.109650545,0.25418982,-0.12353335,-0.056995876,-0.008258834,-0.6047336,-0.2131221,-0.8504299,-0.2758424,0.07257823,-0.14540653,0.3774446,0.12360471,-0.26687172,0.13603069,-0.1675504,0.33096763,0.12106737,0.41872507,0.16633497,-0.11639004,-0.54401916,-0.04950428,-0.13078374,0.021227386,0.3775108,-0.050928354,0.8121854,-0.307691,-0.22515896,-0.10606714,0.6708601,0.16386378,-0.076808386,-0.23243825,0.27733454,-0.19003607,0.25410208,0.082440116,-0.20425059,-0.2976494,0.08964958,-0.2617628,-0.14929345,0.1690043,0.037332945,-0.4650426,0.6575133,0.10821462,0.17851742,-0.09836733,-0.13090257,0.5817784,0.08921786,0.33738226,0.027142694,-0.19084564,0.31515974,0.27050486,0.49612743,-0.17094867,0.11387452,-0.26544204,-0.06796722,-0.29908857,-0.113525175,-0.31062254,-0.033420958,0.14074667,0.15892394,-0.1284628,0.73129785,-0.3303089,0.06577403,-0.02309044,0.07473409,0.21322708,-0.26613376,-0.21842968,0.16432498,-0.33077043,0.66637546,0.12737167,0.042011164,0.66351587,0.23050906,0.30298606,0.59091884,-0.26633295,-0.22423978,-0.28947613,-0.35085514,0.31769186,-0.14334886,-0.05760779,-0.350411,-0.0304719,0.0767775,-0.49500236,0.25333092,0.49929303,-0.6854052,-0.117640726,-0.035133194,-0.09737335,-0.12262587,0.13834664,0.4041458,-0.60628134,-0.09830924,-0.00714225,0.07905058,-0.6069748,0.03486077,-0.48754364,0.1854966,-0.47465128,0.005454476,0.20652077,-0.33504716,-0.049892545,-0.01778563,0.28419214,0.018718584,-0.0029072228,0.6284824,-0.11766647,0.06949557,-0.07737863,-0.2639697,0.05747473,-0.1963192,0.12694046,0.60704356,0.43726382,-0.14021358,-0.6632924,-0.010569845,-0.025874782,0.1456689,0.40950653,0.04999606,-0.19702734,0.34836143,0.62178147,0.5985728,0.08155538,-0.23967727,-0.5381645,-0.2985967,-0.23037948,0.4289697,-0.13720974,-0.29534942,0.04264627,-0.6227274,0.09450743,0.33772233,0.257736,0.24126045,0.48334175,0.0122693395,-0.30376545,-0.11271064,-0.4580944,0.14585458,0.5470635,-0.15304163,-0.0061156056,0.010426874,-0.47950882,0.037311874,0.24375431,-0.09793319,-0.026712677,0.56321275,0.47371545,-0.010395095,0.100176826,-0.16942908,0.4441796,-0.070202336,-0.3077708,0.021759491,0.3220397,0.14791782,-0.18612356,-0.30111423,-0.26009265,-0.18990721,0.058319163,0.20528506,-0.027517345,0.044854444,-0.011566566,0.10609825,-0.4237861,-0.3180491,-0.36983374,-0.11658233,-0.08494966,-0.14628534,0.4997272,-0.12965855,-0.27054504,0.07990996,0.24904135,0.5580453,-0.18161948,-0.329383,-0.2471923,-0.3450323,0.08064479,-0.195472,-0.51792634,0.38040397,-0.22377588,-0.25588265,0.23088567,-0.013154494,-0.1499848,0.07709574,0.5944129,0.28078634,-0.46123788,-0.8002313,0.17086896]'::vector)\",),\n",
       " ('Planning Time: 0.190 ms',),\n",
       " ('Execution Time: 1.656 ms',)]"
      ]
     },
     "execution_count": 69,
     "metadata": {},
     "output_type": "execute_result"
    }
   ],
   "source": [
    "QUERY = f\"\"\"EXPLAIN ANALYZE SELECT img_id, 1-(embedding <-> '{text_embeddings}') AS score FROM benchmark_embeddings_pgvec ORDER BY embedding <-> '{text_embeddings}' LIMIT 10;\"\"\"\n",
    "cursor.execute(QUERY)  # Create the database\n",
    "cursor.fetchall()"
   ]
  },
  {
   "cell_type": "markdown",
   "metadata": {},
   "source": [
    "Results for 'outfit for a beach party':\n",
    "\n",
    "Querying similar catalog took 1.2464 seconds.\n",
    "\n",
    "Number of elements retrieved: 10\n",
    "\n",
    "Vchord outputs were very correct like bikinis and dresses\n",
    "\n",
    "pgvector outputs were very similar too!"
   ]
  },
  {
   "cell_type": "markdown",
   "metadata": {},
   "source": [
    "Results for 'outfit for galentine day':\n",
    "\n",
    "Querying similar catalog took 1.1322 seconds.\n",
    "\n",
    "Number of elements retrieved: 10\n",
    "pgvector - vchord same output but vchord was faster!\n",
    "Avirate Black Polka Dot Dress\n",
    "Vero Moda Women Beige Dress\n",
    "Elle Yellow Vintage Shift Dress"
   ]
  },
  {
   "cell_type": "markdown",
   "metadata": {},
   "source": [
    "Results for 'men outfit for a valentine day':\n",
    "\n",
    "Querying similar catalog took 1.1899 seconds.\n",
    "\n",
    "Number of elements retrieved: 10\n",
    "\n",
    "Vchord - pgvector same!\n",
    "Park Avenue Men Cream Tie\n",
    "HUGO Men Fragrance Gift Set\n",
    "Parx Men Lavender Tie\n",
    "Hakashi Men Lavender Silk Tie\n",
    "Park Avenue Men Lavender Tie\n",
    "Reid & Taylor Men Cream Tie\n",
    "Park Avenue Men Lavender Tie\n",
    "Playboy Men Pack of 2 Innerwear Vests\n",
    "Reid & Taylor Men Cream Tie\n",
    "Rasasi Men Pour Homme Perfume"
   ]
  }
 ],
 "metadata": {
  "kernelspec": {
   "display_name": "Python 3",
   "language": "python",
   "name": "python3"
  },
  "language_info": {
   "codemirror_mode": {
    "name": "ipython",
    "version": 3
   },
   "file_extension": ".py",
   "mimetype": "text/x-python",
   "name": "python",
   "nbconvert_exporter": "python",
   "pygments_lexer": "ipython3",
   "version": "3.10.4"
  }
 },
 "nbformat": 4,
 "nbformat_minor": 2
}
